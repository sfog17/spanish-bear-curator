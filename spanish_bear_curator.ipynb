{
 "cells": [
  {
   "cell_type": "code",
   "execution_count": 1,
   "metadata": {},
   "outputs": [],
   "source": [
    "import seaborn as sns\n",
    "import pandas as pd\n",
    "import requests\n",
    "from fastai.vision.all import *\n",
    "from ipywidgets import widgets"
   ]
  },
  {
   "cell_type": "markdown",
   "metadata": {},
   "source": [
    "# Meet the world's first bear curator\n",
    "\n",
    "The world is changing and museums are changing with it.\n",
    "\n",
    "Challenging the status quo, our digital museum decided to hire a bear \n",
    "as Curator of Spanish Art.\n",
    "\n",
    "Please join us to give a warm welcome **Oso Necesitis**\n",
    "\n",
    "<img src=\"bear-curator.jpg\" alt=\"drawing\" width=\"200\" align=\"left\"/>"
   ]
  },
  {
   "cell_type": "markdown",
   "metadata": {},
   "source": [
    "Leveraging the latest advances in artifical intelligence, Oso would be delighted to help you to identify Spanish paintings. \n",
    "\n",
    "However, you should know that Oso is still in training and there only knows the most famous Spanish painters (El Greco, Zurbarán, Ribera, Velázquez, Murillo, Goya, Sorolla, Picasso, Dalí, Miró)\n",
    "\n",
    "## Try it yourself\n",
    "\n",
    "Enter the URL (or upload a picture from your computer) and Oso will try to guess why major painter"
   ]
  },
  {
   "cell_type": "code",
   "execution_count": 2,
   "metadata": {},
   "outputs": [],
   "source": [
    "FROM_URL = \"From URL\"\n",
    "FROM_COMPUTER = \"From Computer\"\n",
    "\n",
    "learn_inf = load_learner('classifier.pkl', cpu=True)\n",
    "\n",
    "\n",
    "def choose_source(change):\n",
    "    if w_source.value == FROM_URL:\n",
    "        w_url_in.layout.visibility = \"visible\"\n",
    "        w_btn_upload.layout.visibility = \"hidden\"\n",
    "    elif w_source.value == FROM_COMPUTER:\n",
    "        w_url_in.layout.visibility = \"hidden\"\n",
    "        w_btn_upload.layout.visibility = \"visible\"\n",
    "\n",
    "def get_picture(url:str):\n",
    "    \"\"\" Grab URL picture and return results \"\"\"\n",
    "    r = requests.get(url)\n",
    "    with open(\"to_predict.jpg\", 'wb') as outfile:\n",
    "        outfile.write(r.content)\n",
    "    img = PILImage.create(\"to_predict.jpg\")\n",
    "    return img\n",
    "\n",
    "\n",
    "def format_proba_table(df):\n",
    "    \"\"\" Format with colors and sorted results\"\"\"\n",
    "    cm = sns.light_palette('green', as_cmap=True)\n",
    "    df = df.set_index(\"Artist\")\n",
    "    df = df.sort_values(by=\"Probability\", ascending=False)\n",
    "    df = df.style.background_gradient(cmap=cm)\n",
    "    return df\n",
    "\n",
    "\n",
    "def predict_on_click(change):\n",
    "    \"\"\" Perform display picture + predict artist \"\"\"\n",
    "    # Download picture\n",
    "    if w_source.value == FROM_COMPUTER:\n",
    "        img = PILImage.create(w_btn_upload.data[-1])\n",
    "    else:\n",
    "        img = get_picture(w_url_in.value)\n",
    "    # Display\n",
    "    w_img.clear_output()\n",
    "    with w_img: display(img.to_thumb(256,256))\n",
    "    # Predict\n",
    "    pred,pred_idx,probs = learn_inf.predict(img)\n",
    "    w_result.value = f'The bear thinks this painting is from <b>{pred}</b>'\n",
    "    # Widgets - prepare extra results\n",
    "    w_btn_extra.layout.visibility = \"visible\"\n",
    "    w_df.layout.visibility = \"hidden\"\n",
    "    # Build Probability Table\n",
    "    w_df.clear_output()\n",
    "    df = pd.DataFrame({\"Artist\": learn_inf.dls.vocab, \"Probability\": probs})\n",
    "    with w_df: display(format_proba_table(df))\n",
    "    \n",
    "def show_full_results(change):\n",
    "    w_df.layout.visibility = \"visible\""
   ]
  },
  {
   "cell_type": "code",
   "execution_count": 3,
   "metadata": {},
   "outputs": [
    {
     "data": {
      "application/vnd.jupyter.widget-view+json": {
       "model_id": "273d1fd6574748bba1c4f81a75f004f7",
       "version_major": 2,
       "version_minor": 0
      },
      "text/plain": [
       "VBox(children=(ToggleButtons(options=('From URL', 'From Computer'), value='From URL'), Text(value='', placehol…"
      ]
     },
     "metadata": {},
     "output_type": "display_data"
    }
   ],
   "source": [
    "# Enter URL or upload file\n",
    "w_source = widgets.ToggleButtons(options=[FROM_URL, FROM_COMPUTER])\n",
    "w_url_in = widgets.Text(placeholder='Enter URL of picture to predict')\n",
    "w_btn_upload = widgets.FileUpload()\n",
    "w_btn_upload.layout.visibility = \"hidden\"\n",
    "w_source.observe(choose_source)\n",
    "# Display Image\n",
    "w_img = widgets.Output()\n",
    "# Predict Button\n",
    "w_btn = widgets.Button(description=\"Ask the bear\")\n",
    "w_btn.on_click(predict_on_click)\n",
    "# Result\n",
    "w_result = widgets.HTML()\n",
    "#widgets.HTML(value = f\"<b><font color='red'>{text}</b>\")\n",
    "w_df = widgets.Output()\n",
    "# Control Display full results\n",
    "w_btn_extra = widgets.Button(description=\"See full results\")\n",
    "w_btn_extra.layout.visibility = \"hidden\"\n",
    "w_btn_extra.on_click(show_full_results)\n",
    "\n",
    "widgets.VBox([w_source, w_url_in, w_btn_upload, w_btn, w_result,  w_img, w_btn_extra, w_df])"
   ]
  },
  {
   "cell_type": "code",
   "execution_count": null,
   "metadata": {},
   "outputs": [],
   "source": []
  }
 ],
 "metadata": {
  "environment": {
   "name": "pytorch-gpu.1-4.m55",
   "type": "gcloud",
   "uri": "gcr.io/deeplearning-platform-release/pytorch-gpu.1-4:m55"
  },
  "kernelspec": {
   "display_name": "Python 3",
   "language": "python",
   "name": "python3"
  },
  "language_info": {
   "codemirror_mode": {
    "name": "ipython",
    "version": 3
   },
   "file_extension": ".py",
   "mimetype": "text/x-python",
   "name": "python",
   "nbconvert_exporter": "python",
   "pygments_lexer": "ipython3",
   "version": "3.8.5"
  }
 },
 "nbformat": 4,
 "nbformat_minor": 4
}
